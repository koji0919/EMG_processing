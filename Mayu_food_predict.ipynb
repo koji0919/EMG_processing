{
  "nbformat": 4,
  "nbformat_minor": 0,
  "metadata": {
    "colab": {
      "name": "Mayu_food_predict.ipynb",
      "provenance": [],
      "authorship_tag": "ABX9TyMZzBYvSUP5d/cob5NkQKFF",
      "include_colab_link": true
    },
    "kernelspec": {
      "name": "python3",
      "display_name": "Python 3"
    },
    "language_info": {
      "name": "python"
    }
  },
  "cells": [
    {
      "cell_type": "markdown",
      "metadata": {
        "id": "view-in-github",
        "colab_type": "text"
      },
      "source": [
        "<a href=\"https://colab.research.google.com/github/koji0919/EMG_processing/blob/main/Mayu_food_predict.ipynb\" target=\"_parent\"><img src=\"https://colab.research.google.com/assets/colab-badge.svg\" alt=\"Open In Colab\"/></a>"
      ]
    },
    {
      "cell_type": "markdown",
      "source": [
        "木庭変数はごはんの量"
      ],
      "metadata": {
        "id": "1Xxf3fBOGD0W"
      }
    },
    {
      "cell_type": "code",
      "execution_count": null,
      "metadata": {
        "id": "WxNxQ-ejF_rl"
      },
      "outputs": [],
      "source": [
        ""
      ]
    }
  ]
}